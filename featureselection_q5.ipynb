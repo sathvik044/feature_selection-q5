{
  "nbformat": 4,
  "nbformat_minor": 0,
  "metadata": {
    "colab": {
      "provenance": [],
      "authorship_tag": "ABX9TyMBMD0Z7gpLx4wS4OJ7E8yw",
      "include_colab_link": true
    },
    "kernelspec": {
      "name": "python3",
      "display_name": "Python 3"
    },
    "language_info": {
      "name": "python"
    }
  },
  "cells": [
    {
      "cell_type": "markdown",
      "metadata": {
        "id": "view-in-github",
        "colab_type": "text"
      },
      "source": [
        "<a href=\"https://colab.research.google.com/github/sathvik044/feature_selection-q5/blob/main/featureselection_q5.ipynb\" target=\"_parent\"><img src=\"https://colab.research.google.com/assets/colab-badge.svg\" alt=\"Open In Colab\"/></a>"
      ]
    },
    {
      "cell_type": "code",
      "execution_count": 4,
      "metadata": {
        "colab": {
          "base_uri": "https://localhost:8080/"
        },
        "id": "SUOxnYxZGSrQ",
        "outputId": "adbff42c-6619-41ae-a3c6-151859fb33e2"
      },
      "outputs": [
        {
          "output_type": "stream",
          "name": "stdout",
          "text": [
            "(768, 8)\n",
            "Pregnancies                    11.339272\n",
            "Glucose                      1020.917262\n",
            "BloodPressure                 374.159449\n",
            "SkinThickness                 254.141900\n",
            "Insulin                     13263.886875\n",
            "BMI                            62.079046\n",
            "DiabetesPedigreeFunction        0.109636\n",
            "Age                           138.122964\n",
            "dtype: float64\n",
            "Glucose           1020.917262\n",
            "BloodPressure      374.159449\n",
            "SkinThickness      254.141900\n",
            "Insulin          13263.886875\n",
            "BMI                 62.079046\n",
            "Age                138.122964\n",
            "dtype: float64\n",
            "(768, 6)\n",
            "accuracy for all features 0.7012987012987013\n",
            "accuracy for selected features 0.7012987012987013\n"
          ]
        },
        {
          "output_type": "stream",
          "name": "stderr",
          "text": [
            "/usr/local/lib/python3.10/dist-packages/numpy/core/fromnumeric.py:3785: FutureWarning: The behavior of DataFrame.var with axis=None is deprecated, in a future version this will reduce over both axes and return a scalar. To retain the old behavior, pass axis=0 (or do not pass axis)\n",
            "  return var(axis=axis, dtype=dtype, out=out, ddof=ddof, **kwargs)\n"
          ]
        }
      ],
      "source": [
        "import pandas as pd\n",
        "data=pd.read_csv('/content/diabetes.csv')\n",
        "# print(data.columns)\n",
        "x=data.drop(['Outcome'],axis=1)\n",
        "print(x.shape)\n",
        "# print(x.columns)\n",
        "y=data['Outcome']\n",
        "import numpy as np;\n",
        "var=np.var(x);\n",
        "print(var)\n",
        "columns_selected=var[var>30]\n",
        "print(columns_selected)\n",
        "xu=x[columns_selected.index]\n",
        "print(xu.shape)\n",
        "from sklearn.model_selection import train_test_split\n",
        "from sklearn.tree import DecisionTreeClassifier\n",
        "from sklearn.metrics import accuracy_score\n",
        "model = DecisionTreeClassifier(random_state=42)\n",
        "x_train,x_test,y_train,y_test=train_test_split(x,y,test_size=0.3,random_state=42)\n",
        "model.fit(x_train,y_train)\n",
        "y_pred=model.predict(x_test)\n",
        "print(\"accuracy for all features\",accuracy_score(y_test,y_pred))\n",
        "xu_train,xu_test,yu_train,yu_test=train_test_split(xu,y,test_size=0.3,random_state=42)\n",
        "model.fit(xu_train,yu_train)\n",
        "yu_pred=model.predict(xu_test)\n",
        "print(\"accuracy for selected features\",accuracy_score(yu_test,yu_pred))\n",
        "\n"
      ]
    }
  ]
}